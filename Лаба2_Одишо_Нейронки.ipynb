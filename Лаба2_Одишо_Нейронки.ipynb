{
  "cells": [
    {
      "cell_type": "markdown",
      "metadata": {
        "id": "view-in-github",
        "colab_type": "text"
      },
      "source": [
        "<a href=\"https://colab.research.google.com/github/TwinFrozr51/NN_labs/blob/main/%D0%9B%D0%B0%D0%B1%D0%B02_%D0%9E%D0%B4%D0%B8%D1%88%D0%BE_%D0%9D%D0%B5%D0%B9%D1%80%D0%BE%D0%BD%D0%BA%D0%B8.ipynb\" target=\"_parent\"><img src=\"https://colab.research.google.com/assets/colab-badge.svg\" alt=\"Open In Colab\"/></a>"
      ]
    },
    {
      "cell_type": "markdown",
      "source": [
        "Одишо Ашур, БИВТ-20-4\n"
      ],
      "metadata": {
        "id": "9gNHJblOn4vb"
      }
    },
    {
      "cell_type": "markdown",
      "source": [
        "Задача 1. Реализовать слой с функцией активации \"сигмоида\""
      ],
      "metadata": {
        "id": "o9wyJIq1wJHm"
      }
    },
    {
      "cell_type": "code",
      "source": [
        "import numpy as np\n",
        "import math\n",
        "class SigmoidLayer():\n",
        "    def __init__(self):\n",
        "        self.params = []\n",
        "        self.gradInput = None\n",
        "        \n",
        "\n",
        "    def forward(self, X):\n",
        "\n",
        "        self.X = X.copy()\n",
        "        output = 1 / (1 + np.exp(-X))\n",
        "        return output\n",
        "        \n",
        "\n",
        "np.random.seed(17)\n",
        "\n",
        "X = np.random.random(size=(100, 3))\n",
        "sigmoid = SigmoidLayer()\n",
        "output = sigmoid.forward(X)\n",
        "correct_answer = np.array([[0.57313782, 0.62961995, 0.54773438],\n",
        "                           [0.51696857, 0.68718368, 0.65843628],\n",
        "                           [0.65419284, 0.64005501, 0.50976449],\n",
        "                           [0.58851107, 0.7202462 , 0.51500666],\n",
        "                           [0.70350447, 0.70626044, 0.51279562]])\n",
        "assert np.isclose(output[:5], correct_answer).all()\n",
        "assert hasattr(sigmoid, \"params\"), \"Нет параметра params в реализованном классе\"\n",
        "assert hasattr(sigmoid, \"gradInput\"), \"Нет параметра gradInput в реализованном классе\"\n",
        "assert hasattr(sigmoid, \"X\"), \"Не сохранили X в реализованном классе\"\n",
        "        "
      ],
      "metadata": {
        "id": "suYAgdDfvUVe"
      },
      "execution_count": null,
      "outputs": []
    },
    {
      "cell_type": "markdown",
      "source": [
        "Задача 2. Реализовать слой с активацией гиперболического тангенса\n"
      ],
      "metadata": {
        "id": "pxnl87LewL6I"
      }
    },
    {
      "cell_type": "code",
      "source": [
        "class TanhLayer():\n",
        "    def __init__(self):\n",
        "        \n",
        "        self.params = []\n",
        "        self.gradInput = None\n",
        "        \n",
        "\n",
        "    def forward(self, X):\n",
        "        \n",
        "        self.X = X.copy()\n",
        "        output = np.tanh(X)\n",
        "        return output\n",
        "        \n",
        "\n",
        "np.random.seed(17)\n",
        "\n",
        "X = np.random.random(size=(100, 3))\n",
        "tanh = TanhLayer()\n",
        "output = tanh.forward(X)\n",
        "correct_answer = np.array([[0.28642281, 0.48582948, 0.18921297],\n",
        "                           [0.0677962 , 0.65669792, 0.57591821],\n",
        "                           [0.5632092 , 0.51946218, 0.03904306],\n",
        "                           [0.34328675, 0.73782249, 0.05997262],\n",
        "                           [0.69833441, 0.70505935, 0.05114899]])\n",
        "assert np.isclose(output[:5], correct_answer).all()\n",
        "assert hasattr(tanh, \"params\"), \"Нет параметра params в реализованном классе\"\n",
        "assert hasattr(tanh, \"gradInput\"), \"Нет параметра gradInput в реализованном классе\"\n",
        "assert hasattr(tanh, \"X\"), \"Не сохранили X в реализованном классе\""
      ],
      "metadata": {
        "id": "Bg10OnoHwPoq"
      },
      "execution_count": null,
      "outputs": []
    },
    {
      "cell_type": "markdown",
      "source": [
        "Задача 3. Реализовать функцию потерь MSE\n"
      ],
      "metadata": {
        "id": "VLkkkk5fHKLk"
      }
    },
    {
      "cell_type": "code",
      "source": [
        "class MSELoss():\n",
        "    def forward(self, y_true, y_pred):\n",
        "       \n",
        "        mse = np.mean(np.square(y_true - y_pred))\n",
        "        return mse\n",
        "        \n",
        "\n",
        "np.random.seed(17)\n",
        "y_true = np.random.randint(0, 1000, size=(100))\n",
        "y_pred = np.random.randint(0, 1000, size=(100))\n",
        "mse = MSELoss()\n",
        "output = mse.forward(y_true, y_pred)\n",
        "correct_answer = 157953.51\n",
        "assert round(output) == round(correct_answer)"
      ],
      "metadata": {
        "id": "D9Jv_nC2HNGo"
      },
      "execution_count": null,
      "outputs": []
    },
    {
      "cell_type": "markdown",
      "source": [
        "Задача 4. Реализовать каркас нейросети"
      ],
      "metadata": {
        "id": "TWhmxEB2Hh8v"
      }
    },
    {
      "cell_type": "code",
      "source": [
        "class LinearLayer:\n",
        "    \n",
        "    def __init__(self, in_size, out_size):\n",
        "        self.W = np.random.randn(in_size, out_size)\n",
        "        self.params = [self.W]\n",
        "        self.gradW = None\n",
        "        self.gradInput = None\n",
        "        \n",
        "    def forward(self, X):\n",
        "        self.X = X.copy()\n",
        "        output = X.dot(self.W)\n",
        "        return output\n",
        "\n",
        "\n",
        "class NN:\n",
        "    def __init__(self, loss_func):\n",
        "        \n",
        "        self.layers, self.params, self.grads = [], [], []\n",
        "        self.loss_func = loss_func\n",
        "        \n",
        "\n",
        "    def add_layer(self, layer):\n",
        "        \n",
        "        self.layers.append(layer)\n",
        "        self.params.extend(layer.params)\n",
        "        \n",
        "\n",
        "    def forward(self, X):\n",
        "        \n",
        "        output = X.copy()\n",
        "        for layer in self.layers:\n",
        "            output = layer.forward(output)\n",
        "        return output\n",
        "        \n",
        "\n",
        "nn = NN(MSELoss())\n",
        "\n",
        "assert hasattr(nn, \"layers\")\n",
        "assert hasattr(nn, \"params\")\n",
        "assert hasattr(nn, \"grads\")\n",
        "assert hasattr(nn, \"loss_func\")\n",
        "assert isinstance(nn.loss_func, MSELoss)\n",
        "\n",
        "np.random.seed(17)\n",
        "\n",
        "X = np.random.random(size=(100, 3))\n",
        "nn = NN(MSELoss())\n",
        "\n",
        "linear1 = LinearLayer(3, 5)\n",
        "nn.add_layer(linear1)\n",
        "\n",
        "sigmoid1 = SigmoidLayer()\n",
        "nn.add_layer(sigmoid1)\n",
        "\n",
        "linear2 = LinearLayer(5, 1)\n",
        "nn.add_layer(linear2)\n",
        "\n",
        "sigmoid2 = SigmoidLayer()\n",
        "nn.add_layer(sigmoid2)\n",
        "\n",
        "output_nn = nn.forward(X)\n",
        "\n",
        "assert round(output_nn.sum()) == 65"
      ],
      "metadata": {
        "id": "YMTjPQi_HjG0"
      },
      "execution_count": null,
      "outputs": []
    },
    {
      "cell_type": "markdown",
      "source": [
        "Задача 5. Соберите свою собственную нейросеть"
      ],
      "metadata": {
        "id": "MmA7xxINIaH-"
      }
    },
    {
      "cell_type": "code",
      "source": [
        "np.random.seed(17)\n",
        "\n",
        "nn = NN(MSELoss())\n",
        "nn.layers.append(LinearLayer(4, 4))\n",
        "nn.layers.append(SigmoidLayer())\n",
        "nn.layers.append(LinearLayer(4, 5))\n",
        "nn.layers.append(SigmoidLayer())\n",
        "nn.layers.append(LinearLayer(5, 6))\n",
        "nn.layers.append(SigmoidLayer())\n",
        "nn.layers.append(LinearLayer(6, 4))\n",
        "nn.layers.append(SigmoidLayer())\n",
        "nn.layers.append(LinearLayer(4, 3))\n",
        "nn.layers.append(SigmoidLayer())\n",
        "nn.layers.append(LinearLayer(3, 3))\n",
        "\n",
        "\n",
        "np.random.seed(17)\n",
        "X = np.random.randn(100, 4)\n",
        "output = nn.forward(X)\n",
        "\n",
        "assert output.shape == (100, 3)\n",
        "\n",
        "layer_weights = []\n",
        "for layer in nn.layers:\n",
        "    if isinstance(layer, LinearLayer):\n",
        "        layer_weights.append(layer.W.shape)\n",
        "right_weights = [(4, 4), (4, 5), (5, 6), (6, 4), (4, 3), (3, 3)]\n",
        "assert layer_weights == right_weights"
      ],
      "metadata": {
        "id": "3NUFepkIIapt"
      },
      "execution_count": null,
      "outputs": []
    }
  ],
  "metadata": {
    "colab": {
      "provenance": [],
      "authorship_tag": "ABX9TyM9FZ/uhWQO1Axe+kDBYr4B",
      "include_colab_link": true
    },
    "kernelspec": {
      "display_name": "Python 3",
      "name": "python3"
    },
    "language_info": {
      "name": "python"
    }
  },
  "nbformat": 4,
  "nbformat_minor": 0
}