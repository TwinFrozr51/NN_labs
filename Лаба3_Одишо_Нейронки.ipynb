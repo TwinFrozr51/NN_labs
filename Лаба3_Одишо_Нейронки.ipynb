{
  "nbformat": 4,
  "nbformat_minor": 0,
  "metadata": {
    "colab": {
      "provenance": [],
      "authorship_tag": "ABX9TyM5T9IbTeLRF3JNgpyR0r0Q",
      "include_colab_link": true
    },
    "kernelspec": {
      "name": "python3",
      "display_name": "Python 3"
    },
    "language_info": {
      "name": "python"
    }
  },
  "cells": [
    {
      "cell_type": "markdown",
      "metadata": {
        "id": "view-in-github",
        "colab_type": "text"
      },
      "source": [
        "<a href=\"https://colab.research.google.com/github/TwinFrozr51/NN_labs/blob/main/%D0%9B%D0%B0%D0%B1%D0%B03_%D0%9E%D0%B4%D0%B8%D1%88%D0%BE_%D0%9D%D0%B5%D0%B9%D1%80%D0%BE%D0%BD%D0%BA%D0%B8.ipynb\" target=\"_parent\"><img src=\"https://colab.research.google.com/assets/colab-badge.svg\" alt=\"Open In Colab\"/></a>"
      ]
    },
    {
      "cell_type": "markdown",
      "source": [
        "Задача 1. Реализовать слой с функцией активации \"сигмоида\"\n"
      ],
      "metadata": {
        "id": "aJdKBQSfO5KJ"
      }
    },
    {
      "cell_type": "code",
      "source": [
        "import numpy as np\n",
        "import matplotlib.pyplot as plt\n",
        "\n",
        "from IPython.display import clear_output"
      ],
      "metadata": {
        "id": "huAnlJevPD0t"
      },
      "execution_count": null,
      "outputs": []
    },
    {
      "cell_type": "code",
      "execution_count": null,
      "metadata": {
        "id": "cTAJ0sm3NeZ-"
      },
      "outputs": [],
      "source": [
        "class SigmoidLayer():\n",
        "    def __init__(self):\n",
        "        self.params = []\n",
        "        self.gradInput = None\n",
        "        pass\n",
        "\n",
        "    def forward(self, X):\n",
        "        self.X = X.copy()\n",
        "        output = 1 / (1 + np.exp(-X))\n",
        "        return output\n",
        "        pass\n",
        "    \n",
        "    def backward(self, dout):\n",
        "        self.gradInput = dout.copy()\n",
        "        a = 1/(1 + np.exp(-self.X))\n",
        "        self.gradInput = self.gradInput*a*(1-a)\n",
        "        return self.gradInput, []"
      ]
    },
    {
      "cell_type": "code",
      "source": [
        "np.random.seed(17)\n",
        "\n",
        "X = np.random.random(size=(100, 3))\n",
        "sigmoid = SigmoidLayer()\n",
        "output = sigmoid.forward(X)\n",
        "correct_answer = np.array([[0.57313782, 0.62961995, 0.54773438],\n",
        "                           [0.51696857, 0.68718368, 0.65843628],\n",
        "                           [0.65419284, 0.64005501, 0.50976449],\n",
        "                           [0.58851107, 0.7202462 , 0.51500666],\n",
        "                           [0.70350447, 0.70626044, 0.51279562]])\n",
        "assert np.isclose(output[:5], correct_answer).all()\n",
        "assert hasattr(sigmoid, \"params\"), \"Нет параметра params в реализованном классе\"\n",
        "assert hasattr(sigmoid, \"gradInput\"), \"Нет параметра gradInput в реализованном классе\"\n",
        "assert hasattr(sigmoid, \"X\"), \"Не сохранили X в реализованном классе\"\n",
        "\n",
        "\n",
        "dout = np.random.random(size=(100, 3))\n",
        "dInput, _ = sigmoid.backward(dout)\n",
        "correct_dInput = np.array([[0.19460589, 0.20407074, 0.17488009],\n",
        "                           [0.1656316 , 0.10298473, 0.08073351],\n",
        "                           [0.21590141, 0.1403435 , 0.21416212],\n",
        "                           [0.21320927, 0.03610846, 0.05416308],\n",
        "                           [0.00737656, 0.03121984, 0.02882668]])\n",
        "assert np.isclose(dInput[:5], correct_dInput).all()"
      ],
      "metadata": {
        "id": "anao6iTGO3rB"
      },
      "execution_count": null,
      "outputs": []
    },
    {
      "cell_type": "markdown",
      "source": [
        "Задача 2. Реализовать слой с активацией гиперболического тангенса"
      ],
      "metadata": {
        "id": "FOAkqhNlapij"
      }
    },
    {
      "cell_type": "code",
      "source": [
        "class TanhLayer():\n",
        "    def __init__(self):\n",
        "        self.params = []\n",
        "        self.gradInput = None\n",
        "        pass\n",
        "\n",
        "    def forward(self, X):\n",
        "        self.X = X.copy()\n",
        "        output = np.tanh(X)\n",
        "        return output\n",
        "        pass\n",
        "    \n",
        "    def backward(self, dout):\n",
        "        self.gradInput = dout.copy()\n",
        "        a = (np.exp(self.X) - np.exp(-self.X)) / (np.exp(self.X) + np.exp(-self.X))\n",
        "        self.gradInput = self.gradInput*(1-a*a)\n",
        "        return self.gradInput, []\n",
        "        pass"
      ],
      "metadata": {
        "id": "Zr8Dl8QDavfG"
      },
      "execution_count": null,
      "outputs": []
    },
    {
      "cell_type": "code",
      "source": [
        "np.random.seed(17)\n",
        "\n",
        "X = np.random.random(size=(100, 3))\n",
        "tanh = TanhLayer()\n",
        "output = tanh.forward(X)\n",
        "correct_answer = np.array([[0.28642281, 0.48582948, 0.18921297],\n",
        "                           [0.0677962 , 0.65669792, 0.57591821],\n",
        "                           [0.5632092 , 0.51946218, 0.03904306],\n",
        "                           [0.34328675, 0.73782249, 0.05997262],\n",
        "                           [0.69833441, 0.70505935, 0.05114899]])\n",
        "assert np.isclose(output[:5], correct_answer).all()\n",
        "assert hasattr(tanh, \"params\"), \"Нет параметра params в реализованном классе\"\n",
        "assert hasattr(tanh, \"gradInput\"), \"Нет параметра gradInput в реализованном классе\"\n",
        "assert hasattr(tanh, \"X\"), \"Не сохранили X в реализованном классе\"\n",
        "\n",
        "\n",
        "dout = np.random.random(size=(100, 3))\n",
        "dInput, _ = tanh.backward(dout)\n",
        "correct_dInput = np.array([[0.7301867 , 0.66854527, 0.68068037],\n",
        "                           [0.66024164, 0.27247731, 0.23991181],\n",
        "                           [0.65163784, 0.44479135, 0.85566899],\n",
        "                           [0.77667226, 0.08164937, 0.21606773],\n",
        "                           [0.01811832, 0.07567937, 0.11508041]])\n",
        "assert np.isclose(dInput[:5], correct_dInput).all()"
      ],
      "metadata": {
        "id": "5zs7b23ia5oy"
      },
      "execution_count": null,
      "outputs": []
    },
    {
      "cell_type": "markdown",
      "source": [
        "Задача 3. Реализовать функцию потерь MSE"
      ],
      "metadata": {
        "id": "7QG2h8QJexYW"
      }
    },
    {
      "cell_type": "code",
      "source": [
        "class MSELoss():\n",
        "    def forward(self, y_true, y_pred):\n",
        "        mse = np.mean(np.square(y_true - y_pred))\n",
        "        return mse\n",
        "    \n",
        "    def backward(self, y_true, y_pred):\n",
        "        n = len(y_pred)\n",
        "        mse = (1 / n) * -2 * (y_true - y_pred)\n",
        "        return mse\n",
        "        pass"
      ],
      "metadata": {
        "id": "oBSrpWLoeyUY"
      },
      "execution_count": null,
      "outputs": []
    },
    {
      "cell_type": "code",
      "source": [
        "np.random.seed(17)\n",
        "\n",
        "y_true = np.random.randint(0, 1000, size=(100))\n",
        "y_pred = np.random.randint(0, 1000, size=(100))\n",
        "mse = MSELoss()\n",
        "output = mse.forward(y_true, y_pred)\n",
        "correct_answer = 157953.51\n",
        "assert round(output) == round(correct_answer)\n",
        "\n",
        "dout = mse.backward(y_true, y_pred)\n",
        "right_dout = np.array([3.56, 1.24, 10.2, 7.68, 3.02, 9.04, -12.84, -2.16, 3.04, 0.24])\n",
        "assert np.isclose(dout[:10], right_dout).all()\n",
        "assert round(dout.sum(), 3) == 19.26"
      ],
      "metadata": {
        "id": "H4T46ldPfGkr"
      },
      "execution_count": null,
      "outputs": []
    },
    {
      "cell_type": "markdown",
      "source": [
        "Задача 4. Реализовать каркас нейросети"
      ],
      "metadata": {
        "id": "hVctGSpj7R5U"
      }
    },
    {
      "cell_type": "code",
      "source": [
        "class LinearLayer:\n",
        "\n",
        "    def __init__(self, in_size, out_size):\n",
        "        self.W = np.random.randn(in_size, out_size)\n",
        "        self.params = [self.W]\n",
        "        self.gradW = None\n",
        "        self.gradInput = None\n",
        "        \n",
        "    def forward(self, X):\n",
        "        self.X = X.copy()\n",
        "        output = X.dot(self.W)\n",
        "        return output\n",
        "    \n",
        "    def backward(self, dout):\n",
        "        self.gradW = self.X.T.dot(dout)\n",
        "        self.gradInput = dout.dot(self.W.T)\n",
        "        return self.gradInput, [self.gradW]\n",
        "\n",
        "\n",
        "class NN:\n",
        "    def __init__(self, loss_func):\n",
        "        \"\"\"\n",
        "        Необходимо, чтобы нейросеть знала все о своей конфигурации.\n",
        "        1. Создайте внутренние переменные layers, params и grads как пустые листы.\n",
        "        2. Во внутреннюю переменную loss_func положите значение полученной переменной loss_func.\n",
        "        \"\"\"\n",
        "        self.layers, self.params, self.grads = [], [], []\n",
        "        self.loss_func = loss_func\n",
        "        pass\n",
        "\n",
        "    def add_layer(self, layer):\n",
        "        \"\"\"\n",
        "        Функция добавления слоев в нейросеть.\n",
        "        Необходимо, чтобы обновлялись (расширялись) внутренние переменные,\n",
        "        ответственные за слои и параметры этих самых слоев, которые мы инициализировали\n",
        "        в __init__ методе.\n",
        "        \"\"\"\n",
        "        self.layers.append(layer)\n",
        "        self.params.append(layer.params)\n",
        "        pass\n",
        "\n",
        "    def forward(self, X):\n",
        "        \"\"\"\n",
        "        Реализовать forward pass для всей нейросети.\n",
        "        Т.е. реализовать forward pass по каждому слою, и в конце выдать результат \n",
        "        \"\"\"\n",
        "        for layer in self.layers:\n",
        "            X = layer.forward(X)\n",
        "        return X\n",
        "        pass\n",
        "    \n",
        "    def backward(self, dout):\n",
        "        \"\"\"\n",
        "        Реализовать backward pass для всей нейросети.\n",
        "        Т.е. реализовать backward pass по каждому слою в обратном порядке\n",
        "        Каждый слой возвращает dout (проталкиваем градиент далее) \n",
        "        и grad (градиенты параметров для их обновления)\n",
        "        Все полученные градиенты параметров необходимо добавить во внутреннюю \n",
        "        переменную self.grads\n",
        "        В конце необходимо вернуть self.grads\n",
        "        В начале необходимо обнулять градиенты\n",
        "        \"\"\"\n",
        "        self.clear_grad_param()\n",
        "        for layer in reversed(self.layers):\n",
        "            dout, grad = layer.backward(dout)\n",
        "            self.grads.append(grad)\n",
        "        return self.grads\n",
        "\n",
        "    def train_step(self, X, y):\n",
        "        \"\"\"\n",
        "        Функция для проведения одного шага тренировки модели\n",
        "        \n",
        "        Что необходимо сделать:\n",
        "        1. Пропустить полученные данные через сеть\n",
        "        2. Получить значение loss функции\n",
        "        3. Получить градиенты loss функции\n",
        "        4. Полученные от loss функции градиенты запустить в сеть назад\n",
        "        \n",
        "        Возвращаем значение лосс функции из пункта 2 и градиенты из пункта 4.\n",
        "        \"\"\"\n",
        "        y_true = self.forward(X)\n",
        "        loss = self.loss_func.forward(y_true, y)\n",
        "        dout = self.loss_func.backward(y_true, y)\n",
        "        grads = self.backward(dout)\n",
        "        for arr in grads:\n",
        "            for i in range(len(arr)):\n",
        "                arr[i] *= -1\n",
        "        return loss, grads\n",
        "\n",
        "    def predict(self, X):\n",
        "        \"\"\"\n",
        "        Функция для предсказания при заданных Х.\n",
        "        По большому счету, необходимо просто прогнать forward pass\n",
        "        и вернуть полученные значения.\n",
        "        \"\"\"\n",
        "        return self.forward(X)\n",
        "        pass\n",
        "    \n",
        "    def dispGradParam():\n",
        "        \"\"\"\n",
        "        Функция для принта градиентов, уже готовая\n",
        "        \"\"\"\n",
        "        print(self.grads)\n",
        "    \n",
        "    def clear_grad_param(self):\n",
        "        \"\"\"\n",
        "        Функция для очищения градиентов, уже готовая\n",
        "        \"\"\"\n",
        "        self.grads = []\n",
        "    \n",
        "    \n",
        "nn = NN(MSELoss())\n",
        "\n",
        "assert hasattr(nn, \"layers\")\n",
        "assert hasattr(nn, \"params\")\n",
        "assert hasattr(nn, \"grads\")\n",
        "assert hasattr(nn, \"loss_func\")\n",
        "assert isinstance(nn.loss_func, MSELoss)"
      ],
      "metadata": {
        "id": "3xLRU0E17Spu"
      },
      "execution_count": null,
      "outputs": []
    },
    {
      "cell_type": "code",
      "source": [
        "np.random.seed(17)\n",
        "\n",
        "X = np.random.random(size=(100, 3))\n",
        "nn = NN(MSELoss())\n",
        "\n",
        "linear1 = LinearLayer(3, 5)\n",
        "nn.add_layer(linear1)\n",
        "\n",
        "sigmoid1 = SigmoidLayer()\n",
        "nn.add_layer(sigmoid1)\n",
        "\n",
        "linear2 = LinearLayer(5, 1)\n",
        "nn.add_layer(linear2)\n",
        "\n",
        "sigmoid2 = SigmoidLayer()\n",
        "nn.add_layer(sigmoid2)\n",
        "\n",
        "output_nn = nn.forward(X)\n",
        "\n",
        "assert round(output_nn.sum()) == 65\n",
        "\n",
        "\n",
        "y = np.random.randint(0, 2, size=100).reshape(-1, 1)\n",
        "\n",
        "nn_predict = nn.predict(X)\n",
        "assert (output_nn == nn.predict(X)).all()\n",
        "\n",
        "loss, grads = nn.train_step(X, y)\n",
        "right_loss = np.array([0.24705916])\n",
        "\n",
        "assert np.isclose(loss, right_loss)\n",
        "assert grads[0] == []\n",
        "assert round(grads[1][0].sum(), 4) == 0.0394\n",
        "assert grads[2] == []\n",
        "assert round(grads[3][0].sum(), 4) == 0.0077"
      ],
      "metadata": {
        "id": "_Hkq_gkZ7YA9"
      },
      "execution_count": null,
      "outputs": []
    },
    {
      "cell_type": "markdown",
      "source": [
        "Задача 4.1. Реализовать нарезку датасета на минибатчи"
      ],
      "metadata": {
        "id": "ZSCKKUBh2ren"
      }
    },
    {
      "cell_type": "code",
      "source": [
        "def minibatch(X, y, minibatch_size):\n",
        "    n = X.shape[0]\n",
        "    minibatches = []\n",
        "    for i in range(0, n , minibatch_size):\n",
        "        X_batch = X[i:i + minibatch_size, ]\n",
        "        y_batch = y[i:i + minibatch_size, ]\n",
        "        minibatches.append((X_batch, y_batch))\n",
        "    return minibatches\n",
        "    pass"
      ],
      "metadata": {
        "id": "MqYBU_Uo2sVe"
      },
      "execution_count": null,
      "outputs": []
    },
    {
      "cell_type": "code",
      "source": [
        "np.random.seed(17)\n",
        "\n",
        "BATCH_SIZE = 33\n",
        "X = np.random.random(size=(100, 3))\n",
        "y = np.random.randint(0, 2, size=100).reshape(-1, 1)\n",
        "\n",
        "minibatches = minibatch(X, y, BATCH_SIZE)\n",
        "X_batch0, y_batch0 = minibatches[0]\n",
        "correct_y_batch0 = np.array([[0], [0], [0], [1], [1]])\n",
        "assert len(minibatches) == 4\n",
        "assert round(X_batch0.sum(), 3) == 50.216\n",
        "assert (y_batch0[:5] == correct_y_batch0).all()"
      ],
      "metadata": {
        "id": "_uuxj5-o2uyW"
      },
      "execution_count": null,
      "outputs": []
    },
    {
      "cell_type": "code",
      "source": [
        "def update(velocity, params, grads, learning_rate=0.001, mu=0.9):\n",
        "    for v, p, g, in zip(velocity, params, reversed(grads)):\n",
        "        for i in range(len(g)):\n",
        "            v[i] = mu * v[i] + learning_rate * g[i]\n",
        "            p[i] -= v[i]\n",
        "            \n",
        "\n",
        "def plot_train_process(train_acc_list, val_acc_list, \n",
        "                       mean_train_loss_list, mean_val_loss_list):\n",
        "    fig, axes = plt.subplots(1, 2, figsize=(15, 5))\n",
        "\n",
        "    axes[0].set_title('Mean absolute error')\n",
        "    axes[1].set_title('Loss')\n",
        "    \n",
        "    axes[0].plot(train_acc_list, label='train')\n",
        "    axes[0].plot(val_acc_list, label='test')\n",
        "    axes[0].legend()\n",
        "    \n",
        "    axes[1].plot(mean_train_loss_list, label='train')\n",
        "    axes[1].plot(mean_val_loss_list, label='test')\n",
        "    axes[1].legend()\n",
        "    \n",
        "    plt.show()\n",
        "    \n",
        "    \n",
        "def check_accuracy(y_true, y_pred):\n",
        "    return np.mean(abs(y_true - y_pred))\n",
        "\n",
        "\n",
        "def train(net, X_train, y_train, minibatch_size, epoch, learning_rate, mu=0.9,\n",
        "                 verbose=True, X_val=None, y_val=None, nesterov=True, draw_each_iters=5):\n",
        "    val_loss_epoch = []\n",
        "    minibatches = minibatch(X_train, y_train, minibatch_size)\n",
        "    minibatches_val = minibatch(X_val, y_val, minibatch_size)\n",
        "\n",
        "    c = 0 \n",
        "\n",
        "    mean_train_loss_list = []\n",
        "    mean_val_loss_list = []\n",
        "    train_acc_list = []\n",
        "    val_acc_list = []\n",
        "    for n_iter in range(epoch):\n",
        "        loss_batch = []\n",
        "        val_loss_batch = []\n",
        "        velocity = []\n",
        "        for param_layer in net.params:\n",
        "            p = [np.zeros_like(param) for param in list(param_layer)]\n",
        "            velocity.append(p)\n",
        "\n",
        "        # iterate over mini batches\n",
        "        for X_mini, y_mini in minibatches:\n",
        "            loss, grads = net.train_step(X_mini, y_mini)\n",
        "            loss_batch.append(loss)\n",
        "            update(velocity, net.params, grads,\n",
        "                   learning_rate=learning_rate, mu=mu)\n",
        "\n",
        "        for X_mini_val, y_mini_val in minibatches_val:\n",
        "            val_loss, _ = net.train_step(X_mini, y_mini)\n",
        "            val_loss_batch.append(val_loss)\n",
        "\n",
        "\n",
        "        # accuracy of model at end of epoch after all mini batch updates   \n",
        "\n",
        "        if verbose:\n",
        "            m_train = X_train.shape[0]\n",
        "            m_val = X_val.shape[0]\n",
        "            y_train_pred = np.array([], dtype=\"int64\")\n",
        "            y_val_pred = np.array([], dtype=\"int64\")\n",
        "\n",
        "            for i in range(0, m_train, minibatch_size):\n",
        "                X_tr = X_train[i:i + minibatch_size, : ]\n",
        "                y_tr = y_train[i:i + minibatch_size, ]\n",
        "                y_train_pred = np.append(y_train_pred, net.predict(X_tr))\n",
        "\n",
        "            for i in range(0, m_val, minibatch_size):\n",
        "                X_va = X_val[i:i + minibatch_size, : ]\n",
        "                y_va = y_val[i:i + minibatch_size, ]\n",
        "                y_val_pred = np.append(y_val_pred, net.predict(X_va))\n",
        "        \n",
        "            train_acc = check_accuracy(y_train, y_train_pred)\n",
        "            val_acc = check_accuracy(y_val, y_val_pred)\n",
        "            mean_train_loss = sum(loss_batch) / float(len(loss_batch))\n",
        "            mean_val_loss = sum(val_loss_batch) / float(len(val_loss_batch))\n",
        "            \n",
        "            train_acc_list.append(train_acc)\n",
        "            val_acc_list.append(val_acc)\n",
        "            \n",
        "            mean_train_loss_list.append(mean_train_loss)\n",
        "            mean_val_loss_list.append(mean_val_loss)\n",
        "\n",
        "            # early stopping with patience = 5 on val loss\n",
        "            if len(val_loss_epoch) == 0:\n",
        "                val_loss_epoch.append(mean_val_loss)\n",
        "            else:\n",
        "                for j in val_loss_epoch[-5:]:\n",
        "                    if mean_val_loss > j:\n",
        "                        c += 1\n",
        "                    else:\n",
        "                        c = 0\n",
        "                if c > 5:\n",
        "                    print('Early stopping')\n",
        "                    return net\n",
        "                else:\n",
        "                    c = 0\n",
        "                    val_loss_epoch.append(mean_val_loss)  \n",
        "                    \n",
        "            if n_iter % draw_each_iters == 0:\n",
        "                clear_output(True)\n",
        "                plot_train_process(train_acc_list, val_acc_list, \n",
        "                                   mean_train_loss_list, mean_val_loss_list)\n",
        "    return net"
      ],
      "metadata": {
        "id": "jMCoL3ke2wil"
      },
      "execution_count": null,
      "outputs": []
    },
    {
      "cell_type": "markdown",
      "source": [
        "Пробуем обучить нейросеть на игрушечных данных"
      ],
      "metadata": {
        "id": "kWYpeYmE3hcv"
      }
    },
    {
      "cell_type": "code",
      "source": [
        "# Get preprocessed training and validation data\n",
        "\n",
        "X_train = np.arange(1000).reshape(250, 4) / 1e4\n",
        "y_train = X_train.sum(axis=1).reshape(-1, 1)\n",
        "\n",
        "X_test = np.arange(1000, 2000).reshape(250, 4) / 1e4\n",
        "y_test = X_test.sum(axis=1).reshape(-1, 1) \n",
        "\n",
        "print(\"X train:\")\n",
        "print(X_train[:5])\n",
        "print(\"y train:\")\n",
        "print(y_train[:5])\n",
        "print()\n",
        "print(\"X test:\")\n",
        "print(X_test[:5])\n",
        "print(\"y test:\")\n",
        "print(y_test[:5])"
      ],
      "metadata": {
        "colab": {
          "base_uri": "https://localhost:8080/"
        },
        "id": "SiK4hROE3iBo",
        "outputId": "566ccd68-a9bf-43cf-ab4f-74d26d251107"
      },
      "execution_count": null,
      "outputs": [
        {
          "output_type": "stream",
          "name": "stdout",
          "text": [
            "X train:\n",
            "[[0.     0.0001 0.0002 0.0003]\n",
            " [0.0004 0.0005 0.0006 0.0007]\n",
            " [0.0008 0.0009 0.001  0.0011]\n",
            " [0.0012 0.0013 0.0014 0.0015]\n",
            " [0.0016 0.0017 0.0018 0.0019]]\n",
            "y train:\n",
            "[[0.0006]\n",
            " [0.0022]\n",
            " [0.0038]\n",
            " [0.0054]\n",
            " [0.007 ]]\n",
            "\n",
            "X test:\n",
            "[[0.1    0.1001 0.1002 0.1003]\n",
            " [0.1004 0.1005 0.1006 0.1007]\n",
            " [0.1008 0.1009 0.101  0.1011]\n",
            " [0.1012 0.1013 0.1014 0.1015]\n",
            " [0.1016 0.1017 0.1018 0.1019]]\n",
            "y test:\n",
            "[[0.4006]\n",
            " [0.4022]\n",
            " [0.4038]\n",
            " [0.4054]\n",
            " [0.407 ]]\n"
          ]
        }
      ]
    },
    {
      "cell_type": "code",
      "source": [
        "plot_each = 15\n",
        "\n",
        "plt.scatter(X_train[::plot_each, 0], y_train[::plot_each], label='train')\n",
        "plt.scatter(X_test[::plot_each, 0], y_test[::plot_each], label='test')\n",
        "plt.legend();"
      ],
      "metadata": {
        "colab": {
          "base_uri": "https://localhost:8080/",
          "height": 430
        },
        "id": "fSIvjpGe3j0j",
        "outputId": "9f8a10cd-f038-4e28-d25b-90b07465fd23"
      },
      "execution_count": null,
      "outputs": [
        {
          "output_type": "display_data",
          "data": {
            "text/plain": [
              "<Figure size 640x480 with 1 Axes>"
            ],
            "image/png": "[encoded data removed]"
          },
          "metadata": {}
        }
      ]
    },
    {
      "cell_type": "code",
      "source": [
        "# define neural net\n",
        "model = NN(MSELoss())\n",
        "\n",
        "# add some layers\n",
        "model.add_layer(LinearLayer(4, 1))\n",
        "\n",
        "model = train(model, X_train, y_train, minibatch_size=10, epoch=100,\n",
        "           learning_rate=0.01, X_val=X_test, y_val=y_test, verbose=True)"
      ],
      "metadata": {
        "colab": {
          "base_uri": "https://localhost:8080/",
          "height": 440
        },
        "id": "PiAdn4LD3lgI",
        "outputId": "f0fca9d5-6a44-469c-be43-88f661ddfc3c"
      },
      "execution_count": null,
      "outputs": [
        {
          "output_type": "display_data",
          "data": {
            "text/plain": [
              "<Figure size 1500x500 with 2 Axes>"
            ],
            "image/png": "[encoded data removed]"
          },
          "metadata": {}
        }
      ]
    }
  ]
}